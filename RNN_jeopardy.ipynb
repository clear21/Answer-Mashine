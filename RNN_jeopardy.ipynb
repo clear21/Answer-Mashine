{
  "nbformat": 4,
  "nbformat_minor": 0,
  "metadata": {
    "colab": {
      "name": "RNN_jeopardy.ipynb",
      "version": "0.3.2",
      "provenance": [],
      "collapsed_sections": [],
      "include_colab_link": true
    },
    "kernelspec": {
      "name": "python3",
      "display_name": "Python 3"
    },
    "accelerator": "GPU"
  },
  "cells": [
    {
      "cell_type": "markdown",
      "metadata": {
        "id": "view-in-github",
        "colab_type": "text"
      },
      "source": [
        "<a href=\"https://colab.research.google.com/github/clear21/Answer-Mashine/blob/master/RNN_jeopardy.ipynb\" target=\"_parent\"><img src=\"https://colab.research.google.com/assets/colab-badge.svg\" alt=\"Open In Colab\"/></a>"
      ]
    },
    {
      "metadata": {
        "id": "Y8vRqtp8X_AS",
        "colab_type": "code",
        "colab": {}
      },
      "cell_type": "code",
      "source": [
        "from google.colab import files\n",
        "import urllib.request\n",
        "import json\n",
        "import pandas as pd\n",
        "import numpy as np\n",
        "\n",
        "from keras.layers import Dense , Activation , SimpleRNN , LSTM , Embedding\n",
        "from keras.models import Sequential\n",
        "\n",
        "from datetime import datetime\n",
        "\n",
        "import re"
      ],
      "execution_count": 0,
      "outputs": []
    },
    {
      "metadata": {
        "id": "1v3A-NDCbUVC",
        "colab_type": "code",
        "colab": {}
      },
      "cell_type": "code",
      "source": [
        "#■関数\n",
        "\n",
        "#◆jsonファイルで保存\n",
        "#引数：保存対象オブジェクト、ファイル名(拡張子なし)\n",
        "def save_as_json(obj , fname):\n",
        "    json_fname_with_extension = fname + '.json'\n",
        "    fw = open(json_fname_with_extension , 'w')\n",
        "    json.dump(obj , fw , indent = 4)\n",
        "    fw.close()\n",
        "    files.download(json_fname_with_extension)\n",
        "\n",
        "#◆jsonファイルを取得\n",
        "#引数：対象ファイルのパス\n",
        "def import_json(fpass):\n",
        "    fr = open(fpass , 'r')\n",
        "    f = json.load(fr)\n",
        "    fr.close()\n",
        "    return f"
      ],
      "execution_count": 0,
      "outputs": []
    },
    {
      "metadata": {
        "id": "EsCMIaAUZJu7",
        "colab_type": "code",
        "outputId": "dad8e148-c008-4b3a-ff28-fb087c8749a3",
        "colab": {
          "resources": {
            "http://localhost:8080/nbextensions/google.colab/files.js": {
              "data": "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",
              "ok": true,
              "headers": [
                [
                  "content-type",
                  "application/javascript"
                ]
              ],
              "status": 200,
              "status_text": ""
            }
          },
          "base_uri": "https://localhost:8080/",
          "height": 673
        }
      },
      "cell_type": "code",
      "source": [
        "#QAデータセットの取得（JEOPARDY_CSV.csv）\n",
        "files.upload()\n",
        "\n",
        "# qa_data_url = r'https://drive.google.com/file/d/0BwT5wj_P7BKXUl9tOUJWYzVvUjA/view'\n",
        "# qa_file_name = 'JEOPARDY_CSV.csv'\n",
        "# urllib.request.urlretrieve(qa_data_url , qa_file_name)"
      ],
      "execution_count": 56,
      "outputs": [
        {
          "output_type": "display_data",
          "data": {
            "text/html": [
              "\n",
              "     <input type=\"file\" id=\"files-9aef9dd5-5abb-4353-bbad-e6366e75cff3\" name=\"files[]\" multiple disabled />\n",
              "     <output id=\"result-9aef9dd5-5abb-4353-bbad-e6366e75cff3\">\n",
              "      Upload widget is only available when the cell has been executed in the\n",
              "      current browser session. Please rerun this cell to enable.\n",
              "      </output>\n",
              "      <script src=\"/nbextensions/google.colab/files.js\"></script> "
            ],
            "text/plain": [
              "<IPython.core.display.HTML object>"
            ]
          },
          "metadata": {
            "tags": []
          }
        },
        {
          "output_type": "stream",
          "text": [
            "Saving JEOPARDY_CSV.csv to JEOPARDY_CSV (1).csv\n"
          ],
          "name": "stdout"
        },
        {
          "output_type": "error",
          "ename": "KeyboardInterrupt",
          "evalue": "ignored",
          "traceback": [
            "\u001b[0;31m---------------------------------------------------------------------------\u001b[0m",
            "\u001b[0;31mKeyboardInterrupt\u001b[0m                         Traceback (most recent call last)",
            "\u001b[0;32m<ipython-input-56-f3f30422f8a3>\u001b[0m in \u001b[0;36m<module>\u001b[0;34m()\u001b[0m\n\u001b[0;32m----> 1\u001b[0;31m \u001b[0mfiles\u001b[0m\u001b[0;34m.\u001b[0m\u001b[0mupload\u001b[0m\u001b[0;34m(\u001b[0m\u001b[0;34m)\u001b[0m\u001b[0;34m\u001b[0m\u001b[0m\n\u001b[0m\u001b[1;32m      2\u001b[0m \u001b[0;34m\u001b[0m\u001b[0m\n\u001b[1;32m      3\u001b[0m \u001b[0;31m# qa_data_url = r'https://drive.google.com/file/d/0BwT5wj_P7BKXUl9tOUJWYzVvUjA/view'\u001b[0m\u001b[0;34m\u001b[0m\u001b[0;34m\u001b[0m\u001b[0m\n\u001b[1;32m      4\u001b[0m \u001b[0;31m# qa_file_name = 'JEOPARDY_CSV.csv'\u001b[0m\u001b[0;34m\u001b[0m\u001b[0;34m\u001b[0m\u001b[0m\n\u001b[1;32m      5\u001b[0m \u001b[0;31m# urllib.request.urlretrieve(qa_data_url , qa_file_name)\u001b[0m\u001b[0;34m\u001b[0m\u001b[0;34m\u001b[0m\u001b[0m\n",
            "\u001b[0;32m/usr/local/lib/python3.6/dist-packages/google/colab/files.py\u001b[0m in \u001b[0;36mupload\u001b[0;34m()\u001b[0m\n\u001b[1;32m     70\u001b[0m     result = _output.eval_js(\n\u001b[1;32m     71\u001b[0m         'google.colab._files._uploadFilesContinue(\"{output_id}\")'.format(\n\u001b[0;32m---> 72\u001b[0;31m             output_id=output_id))\n\u001b[0m\u001b[1;32m     73\u001b[0m     \u001b[0;32mif\u001b[0m \u001b[0mresult\u001b[0m\u001b[0;34m[\u001b[0m\u001b[0;34m'action'\u001b[0m\u001b[0;34m]\u001b[0m \u001b[0;34m!=\u001b[0m \u001b[0;34m'append'\u001b[0m\u001b[0;34m:\u001b[0m\u001b[0;34m\u001b[0m\u001b[0m\n\u001b[1;32m     74\u001b[0m       \u001b[0;31m# JS side uses a generator of promises to process all of the files- some\u001b[0m\u001b[0;34m\u001b[0m\u001b[0;34m\u001b[0m\u001b[0m\n",
            "\u001b[0;32m/usr/local/lib/python3.6/dist-packages/google/colab/output/_js.py\u001b[0m in \u001b[0;36meval_js\u001b[0;34m(script, ignore_result)\u001b[0m\n\u001b[1;32m     37\u001b[0m   \u001b[0;32mif\u001b[0m \u001b[0mignore_result\u001b[0m\u001b[0;34m:\u001b[0m\u001b[0;34m\u001b[0m\u001b[0m\n\u001b[1;32m     38\u001b[0m     \u001b[0;32mreturn\u001b[0m\u001b[0;34m\u001b[0m\u001b[0m\n\u001b[0;32m---> 39\u001b[0;31m   \u001b[0;32mreturn\u001b[0m \u001b[0m_message\u001b[0m\u001b[0;34m.\u001b[0m\u001b[0mread_reply_from_input\u001b[0m\u001b[0;34m(\u001b[0m\u001b[0mrequest_id\u001b[0m\u001b[0;34m)\u001b[0m\u001b[0;34m\u001b[0m\u001b[0m\n\u001b[0m\u001b[1;32m     40\u001b[0m \u001b[0;34m\u001b[0m\u001b[0m\n\u001b[1;32m     41\u001b[0m \u001b[0;34m\u001b[0m\u001b[0m\n",
            "\u001b[0;32m/usr/local/lib/python3.6/dist-packages/google/colab/_message.py\u001b[0m in \u001b[0;36mread_reply_from_input\u001b[0;34m(message_id, timeout_sec)\u001b[0m\n\u001b[1;32m     99\u001b[0m     \u001b[0mreply\u001b[0m \u001b[0;34m=\u001b[0m \u001b[0m_read_next_input_message\u001b[0m\u001b[0;34m(\u001b[0m\u001b[0;34m)\u001b[0m\u001b[0;34m\u001b[0m\u001b[0m\n\u001b[1;32m    100\u001b[0m     \u001b[0;32mif\u001b[0m \u001b[0mreply\u001b[0m \u001b[0;34m==\u001b[0m \u001b[0m_NOT_READY\u001b[0m \u001b[0;32mor\u001b[0m \u001b[0;32mnot\u001b[0m \u001b[0misinstance\u001b[0m\u001b[0;34m(\u001b[0m\u001b[0mreply\u001b[0m\u001b[0;34m,\u001b[0m \u001b[0mdict\u001b[0m\u001b[0;34m)\u001b[0m\u001b[0;34m:\u001b[0m\u001b[0;34m\u001b[0m\u001b[0m\n\u001b[0;32m--> 101\u001b[0;31m       \u001b[0mtime\u001b[0m\u001b[0;34m.\u001b[0m\u001b[0msleep\u001b[0m\u001b[0;34m(\u001b[0m\u001b[0;36m0.025\u001b[0m\u001b[0;34m)\u001b[0m\u001b[0;34m\u001b[0m\u001b[0m\n\u001b[0m\u001b[1;32m    102\u001b[0m       \u001b[0;32mcontinue\u001b[0m\u001b[0;34m\u001b[0m\u001b[0m\n\u001b[1;32m    103\u001b[0m     if (reply.get('type') == 'colab_reply' and\n",
            "\u001b[0;31mKeyboardInterrupt\u001b[0m: "
          ]
        }
      ]
    },
    {
      "metadata": {
        "id": "JQhL2tZRaHMv",
        "colab_type": "code",
        "outputId": "9407662b-a0c4-4e51-cc9e-7f982cda33c6",
        "colab": {
          "base_uri": "https://localhost:8080/",
          "height": 72
        }
      },
      "cell_type": "code",
      "source": [
        "#QAデータをデータフレーム化（Question と Answer を使用する）\n",
        "qa_csv = r'JEOPARDY_CSV.csv'\n",
        "qa_df = pd.read_csv(qa_csv)[[' Question' , ' Answer']]\n",
        "\n",
        "#画像URLありの質問　＆　Answerが１wordでない　を除外\n",
        "qa_df = qa_df[~qa_df[' Question'].str.contains('<a href=')]\n",
        "print('画像URLありの質問' , '除外後' , len(qa_df))\n",
        "\n",
        "qa_df[' Answer'] = qa_df[' Answer'].str.strip()\n",
        "qa_df = qa_df[~qa_df[' Answer'].str.contains(' ' , na = True)]\n",
        "print('Answerが１wordでない' , '除外後' , len(qa_df))\n",
        "qa_df = qa_df.reset_index(drop = True)\n",
        "\n",
        "\n",
        "#テストのため、行数削減\n",
        "qa_df = qa_df[:2000]\n",
        "qa_df = qa_df.reset_index(drop = True)\n",
        "\n",
        "print('len(qa_df)' , len(qa_df))"
      ],
      "execution_count": 75,
      "outputs": [
        {
          "output_type": "stream",
          "text": [
            "画像URLありの質問 除外後 206407\n",
            "Answerが１wordでない 除外後 89070\n",
            "len(qa_df) 2000\n"
          ],
          "name": "stdout"
        }
      ]
    },
    {
      "metadata": {
        "id": "chlnIu1TaI6H",
        "colab_type": "code",
        "outputId": "18b7f297-e84a-41df-b283-29a20913c872",
        "colab": {
          "base_uri": "https://localhost:8080/",
          "height": 54
        }
      },
      "cell_type": "code",
      "source": [
        "#■文字\n",
        "#関数：文字列→単価リスト（to_word_set～で使用）\n",
        "#第二引数：「Q」＝Question用処理、「A」＝Answer用処理\n",
        "def BK_sentence2wordlist(sentence , QorA):\n",
        "    sentence = str(sentence)\n",
        "    if QorA == 'Q':\n",
        "        return list(map(lambda x : x.lower() , re.sub(r' +' , ' ' , sentence.replace(',' , ' , ').replace('.' , ' . ').replace('?' , ' ? ').replace('\"' , '').replace('$' , ' $ ').replace('(' , ' ').replace(')' , ' '))))\n",
        "    elif QorA == 'A':\n",
        "        return sentence.lower()\n",
        "      \n",
        "#■単語\n",
        "#関数：文字列→単価リスト（to_word_set～で使用）\n",
        "#第二引数：「Q」＝Question用処理、「A」＝Answer用処理      \n",
        "def sentence2wordlist(sentence , QorA):\n",
        "    sentence = str(sentence)\n",
        "    if QorA == 'Q':\n",
        "        return list(map(lambda x : x.lower() , re.sub(r' +' , ' ' , sentence.replace(',' , ' , ').replace('.' , ' . ').replace('?' , ' ? ').replace('\"' , '').replace('$' , ' $ ').replace('(' , ' ').replace(')' , ' ')).split(' ')))\n",
        "    elif QorA == 'A':\n",
        "        return sentence.lower()\n",
        "\n",
        "#関数：文字列のリスト→単語の集合（重複無）※Question用\n",
        "def to_word_set_Qustion(sentence_list):\n",
        "    word_split_list = []\n",
        "    for sentence in sentence_list:\n",
        "        word_split_list += sentence2wordlist(sentence , 'Q')\n",
        "    return set(word_split_list)\n",
        "\n",
        "#関数：文字列のリスト→単語の集合（重複無）※Answer用\n",
        "def to_word_set_Answer(sentence_list):\n",
        "    word_split_list = []\n",
        "    for sentence in sentence_list:    \n",
        "        word_split_list.append(sentence2wordlist(sentence , 'A'))\n",
        "    return set(word_split_list)\n",
        "  \n",
        "#単語辞書作成\n",
        "#--単語一覧\n",
        "q_word_set = to_word_set_Qustion(qa_df[' Question'])\n",
        "a_word_set = to_word_set_Answer(qa_df[' Answer'])\n",
        "\n",
        "# word_set = q_word_set | a_word_set\n",
        "# del q_word_set , a_word_set\n",
        "\n",
        "#Q用：word2id_q、id2word_q　　A用：word2id_a、id2word_a\n",
        "#--Q用\n",
        "word_list_q = sorted(list(q_word_set))\n",
        "word2id_q = {word_list_q[i] : i for i in range(len(word_list_q))}\n",
        "id2word_q = {i : word_list_q[i] for i in range(len(word_list_q))}\n",
        "\n",
        "del q_word_set , word_list_q\n",
        "\n",
        "#--A用\n",
        "word_list_a = sorted(list(a_word_set))\n",
        "word2id_a = {word_list_a[i] : i for i in range(len(word_list_a))}\n",
        "id2word_a = {i : word_list_a[i] for i in range(len(word_list_a))}\n",
        "\n",
        "del a_word_set , word_list_a\n",
        "\n",
        "print('word2id_q' , len(word2id_q))\n",
        "print('word2id_a' , len(word2id_a))\n",
        "\n",
        "# word_list = sorted(list(word_set))\n",
        "# word2id = {word_list[i] : i for i in range(len(word_list))}\n",
        "# id2word = {i : word_list[i] for i in range(len(word_list))}\n",
        "# del word_set , word_list"
      ],
      "execution_count": 76,
      "outputs": [
        {
          "output_type": "stream",
          "text": [
            "word2id_q 7630\n",
            "word2id_a 1667\n"
          ],
          "name": "stdout"
        }
      ]
    },
    {
      "metadata": {
        "id": "Cz7RmWQ8dRY8",
        "colab_type": "code",
        "outputId": "096aa6f4-9102-4e00-bf1e-0b989705d81c",
        "colab": {
          "base_uri": "https://localhost:8080/",
          "height": 1526
        }
      },
      "cell_type": "code",
      "source": [
        "#モデルの型\n",
        "HIDDEN_SIZE = 256\n",
        "#NUM_ITERATIONS = 25\n",
        "SEQLEN = 10\n",
        "BATCH_SIZE = 128\n",
        "NUM_EPOCHS_PER_ITERATION = 32\n",
        "VOCAB_SIZE = len(word2id_q)\n",
        "EMBED_SIZE = 128\n",
        "\n",
        "model = Sequential()\n",
        "model.add(Embedding(VOCAB_SIZE\n",
        "                   , output_dim = EMBED_SIZE\n",
        "                   , embeddings_initializer = 'glorot_uniform'\n",
        "                   , input_length = SEQLEN))\n",
        "# model.add(SimpleRNN(HIDDEN_SIZE \n",
        "#                     , return_sequences = False\n",
        "#                     , stateful = False\n",
        "#                     #, batch_input_shape = (BATCH_SIZE , None , len(word2id_q)))\n",
        "#                     , input_shape = (None , len(word2id_q)))\n",
        "#                    )\n",
        "model.add(LSTM(HIDDEN_SIZE \n",
        "                     , return_sequences = False \n",
        "                     , input_shape = (None , len(word2id_q))))\n",
        "model.add(Dense(len(word2id_a)))\n",
        "model.add(Activation(\"softmax\"))\n",
        "\n",
        "model.compile(loss = \"categorical_crossentropy\" , optimizer = \"rmsprop\")\n",
        "\n",
        "#入力値として、各Questionに対して、SEQLEN文字ずつ区切ったものを作成し、Answerをラベルとする。\n",
        "one_fit_qa_num = len(qa_df)\n",
        "\n",
        "word_split_question_list = []\n",
        "word_split_answer_list = []\n",
        "\n",
        "print(model.summary())\n",
        "\n",
        "start = datetime.now()\n",
        "\n",
        "#テスト\n",
        "for test_no in range(1):\n",
        "    for qa_no in range(len(qa_df)):\n",
        "\n",
        "        word_split_question_list.append( sentence2wordlist(qa_df[' Question'][qa_no] , 'Q') )\n",
        "        word_split_answer_list.append( sentence2wordlist(qa_df[' Answer'][qa_no] , 'A') )\n",
        "\n",
        "        if True if one_fit_qa_num == 1 else (qa_no % (one_fit_qa_num - 1) == 0 and qa_no != 0) :\n",
        "        #if ((0 if one_fit_qa_num == 1 else qa_no % (one_fit_qa_num - 1)) == 0 or qa_no == len(qa_df) - 1) and (True if one_fit_qa_num == 1 else qa_no != 0) :\n",
        "            #入力用\n",
        "            word_per_SEQLEN = []\n",
        "            #ラベル\n",
        "            y = []\n",
        "\n",
        "            for word_split_question , word_split_answer in zip(word_split_question_list , word_split_answer_list):\n",
        "                append_y_size = 0\n",
        "\n",
        "                #入力\n",
        "                if (len(word_split_question) - SEQLEN + 1) > 0:\n",
        "                    for i in range(len(word_split_question) - SEQLEN + 1):\n",
        "                        word_per_SEQLEN.append(word_split_question[i : i + SEQLEN])\n",
        "                        append_y_size += 1\n",
        "                else :\n",
        "                    word_per_SEQLEN.append(word_split_question + ['' for i in range(SEQLEN - len(word_split_question))])\n",
        "                    append_y_size += 1\n",
        "\n",
        "                #ラベル\n",
        "                y = y + [[1 if j == word2id_a[word_split_answer] else 0 for j in range(len(word2id_a))] for i in range(append_y_size)]\n",
        "\n",
        "            #※idが要素\n",
        "            X = np.zeros((len(word_per_SEQLEN) , SEQLEN) , dtype = np.int)\n",
        "            \n",
        "            #※idが要素\n",
        "            for i in range(len(word_per_SEQLEN)):\n",
        "                w_list = word_per_SEQLEN[i]\n",
        "                for j in range(SEQLEN):\n",
        "                    wid = word2id_q[w_list[j]]\n",
        "                    X[i , j] = wid\n",
        "                    \n",
        "            print('X.shape' , np.array(X).shape)\n",
        "            print('y.shape' , np.array(y).shape)\n",
        "  \n",
        "            #※one_hot作成\n",
        "            #X = np.zeros((len(word_per_SEQLEN) , SEQLEN , len(word2id_q)) , dtype = np.bool)             \n",
        "            \n",
        "            #※one_hot作成\n",
        "            #for i in range(len(word_per_SEQLEN)):\n",
        "                #w_list = word_per_SEQLEN[i]\n",
        "                #for j in range(SEQLEN):\n",
        "                    #wid = word2id_q[w_list[j]]\n",
        "                    #X[i , j , wid] = 1\n",
        "\n",
        "            #×　ラベルの値\n",
        "            #×　y = [[1 if j == word2id[word_split_answer] else 0 for j in range(len(word2id))] for i in range(len(word_per_SEQLEN))]  \n",
        "\n",
        "            #学習\n",
        "            model.fit(np.array(X) , np.array(y) , batch_size = BATCH_SIZE , epochs = NUM_EPOCHS_PER_ITERATION , shuffle = True)\n",
        "\n",
        "            model.reset_states()            \n",
        "\n",
        "            #初期化\n",
        "            word_split_question_list = []\n",
        "            word_split_answer_list = []\n",
        "\n",
        "            #if qa_no == (one_fit_qa_num - 1):\n",
        "                #print('X' , np.array(X).shape)\n",
        "                #print('y' , len(y))\n",
        "                #break\n",
        "                \n",
        "#1学習の時間\n",
        "end = datetime.now()\n",
        "print('learn time:' , end - start)"
      ],
      "execution_count": 77,
      "outputs": [
        {
          "output_type": "stream",
          "text": [
            "_________________________________________________________________\n",
            "Layer (type)                 Output Shape              Param #   \n",
            "=================================================================\n",
            "embedding_12 (Embedding)     (None, 10, 128)           976640    \n",
            "_________________________________________________________________\n",
            "lstm_12 (LSTM)               (None, 256)               394240    \n",
            "_________________________________________________________________\n",
            "dense_12 (Dense)             (None, 1667)              428419    \n",
            "_________________________________________________________________\n",
            "activation_12 (Activation)   (None, 1667)              0         \n",
            "=================================================================\n",
            "Total params: 1,799,299\n",
            "Trainable params: 1,799,299\n",
            "Non-trainable params: 0\n",
            "_________________________________________________________________\n",
            "None\n",
            "X.shape (12637, 10)\n",
            "y.shape (12637, 1667)\n",
            "Epoch 1/32\n",
            "12637/12637 [==============================] - 5s 409us/step - loss: 7.1359\n",
            "Epoch 2/32\n",
            "12637/12637 [==============================] - 3s 260us/step - loss: 6.6769\n",
            "Epoch 3/32\n",
            "12637/12637 [==============================] - 3s 260us/step - loss: 6.2603\n",
            "Epoch 4/32\n",
            "12637/12637 [==============================] - 3s 270us/step - loss: 5.9324\n",
            "Epoch 5/32\n",
            "12637/12637 [==============================] - 3s 260us/step - loss: 5.5875\n",
            "Epoch 6/32\n",
            "12637/12637 [==============================] - 3s 264us/step - loss: 5.2274\n",
            "Epoch 7/32\n",
            "12637/12637 [==============================] - 3s 268us/step - loss: 4.7599\n",
            "Epoch 8/32\n",
            "12637/12637 [==============================] - 3s 261us/step - loss: 4.1816\n",
            "Epoch 9/32\n",
            "12637/12637 [==============================] - 3s 263us/step - loss: 3.5533\n",
            "Epoch 10/32\n",
            "12637/12637 [==============================] - 3s 263us/step - loss: 2.9156\n",
            "Epoch 11/32\n",
            "12637/12637 [==============================] - 3s 259us/step - loss: 2.3122\n",
            "Epoch 12/32\n",
            "12637/12637 [==============================] - 3s 254us/step - loss: 1.7583\n",
            "Epoch 13/32\n",
            "12637/12637 [==============================] - 3s 255us/step - loss: 1.3029\n",
            "Epoch 14/32\n",
            "12637/12637 [==============================] - 3s 257us/step - loss: 0.9573\n",
            "Epoch 15/32\n",
            "12637/12637 [==============================] - 3s 255us/step - loss: 0.7040\n",
            "Epoch 16/32\n",
            "12637/12637 [==============================] - 3s 257us/step - loss: 0.5238\n",
            "Epoch 17/32\n",
            "12637/12637 [==============================] - 3s 256us/step - loss: 0.4016\n",
            "Epoch 18/32\n",
            "12637/12637 [==============================] - 3s 255us/step - loss: 0.3216\n",
            "Epoch 19/32\n",
            "12637/12637 [==============================] - 3s 257us/step - loss: 0.2596\n",
            "Epoch 20/32\n",
            "12637/12637 [==============================] - 3s 256us/step - loss: 0.2153\n",
            "Epoch 21/32\n",
            "12637/12637 [==============================] - 3s 257us/step - loss: 0.1839\n",
            "Epoch 22/32\n",
            "12637/12637 [==============================] - 3s 258us/step - loss: 0.1564\n",
            "Epoch 23/32\n",
            "12637/12637 [==============================] - 3s 262us/step - loss: 0.1368\n",
            "Epoch 24/32\n",
            "12637/12637 [==============================] - 3s 256us/step - loss: 0.1209\n",
            "Epoch 25/32\n",
            "12637/12637 [==============================] - 3s 258us/step - loss: 0.1054\n",
            "Epoch 26/32\n",
            "12637/12637 [==============================] - 3s 258us/step - loss: 0.0925\n",
            "Epoch 27/32\n",
            "12637/12637 [==============================] - 3s 266us/step - loss: 0.0842\n",
            "Epoch 28/32\n",
            "12637/12637 [==============================] - 3s 258us/step - loss: 0.0739\n",
            "Epoch 29/32\n",
            "12637/12637 [==============================] - 3s 257us/step - loss: 0.0658\n",
            "Epoch 30/32\n",
            "12637/12637 [==============================] - 3s 259us/step - loss: 0.0597\n",
            "Epoch 31/32\n",
            "12637/12637 [==============================] - 3s 257us/step - loss: 0.0528\n",
            "Epoch 32/32\n",
            "12637/12637 [==============================] - 3s 259us/step - loss: 0.0469\n",
            "learn time: 0:01:55.953915\n"
          ],
          "name": "stdout"
        }
      ]
    },
    {
      "metadata": {
        "id": "4vCf4oiIgBS3",
        "colab_type": "code",
        "outputId": "3e3cce16-e382-4e55-bedc-42980e482ce6",
        "colab": {
          "base_uri": "https://localhost:8080/",
          "height": 90
        }
      },
      "cell_type": "code",
      "source": [
        "#■関数\n",
        "\n",
        "#※one_hot作成\n",
        "#wordのリスト　→　入力用行列（1 × 入力word数 × len(word2id_q)）\n",
        "#※各word が word2id_q に存在すること（＝絶対条件：小文字）\n",
        "def BK_create_X(word_list , word2id_q = word2id_q):\n",
        "    wid_list = [word2id_q[word] for word in word_list]\n",
        "    return_X = np.zeros((1 , len(word_list) , len(word2id_q)) , dtype = np.bool)\n",
        "    for j in range(len(wid_list)):\n",
        "        return_X[0 , j , wid_list[j]] = 1\n",
        "    return return_X\n",
        "\n",
        "#※単語idが要素\n",
        "#wordのリスト　→　入力用行列（1 × 入力word数 × len(word2id_q)）\n",
        "#※各word が word2id_q に存在すること（＝絶対条件：小文字）\n",
        "def create_X(word_list , word2id_q = word2id_q):\n",
        "    wid_list = [word2id_q[word] for word in word_list]\n",
        "    return_X = np.zeros((1 , len(word_list)) , dtype = int)\n",
        "    for j in range(len(word_list)):\n",
        "        return_X[0 , j] = wid_list[j]\n",
        "    return return_X\n",
        "\n",
        "#test_word_list = list('For the last 8 years of his life, Galileo was'.lower())\n",
        "#test_word_list = ['f', 'o', 'r', ' ', 't', 'h', 'e', ' ', 'l', 'a', 's', 't', ' ', '8', ' ', 'y', 'e', 'a', 'r', 's', ' ', 'o', 'f', ' ', 'h', 'i', 's', ' ', 'l', 'i', 'f', 'e', ' ', ',', ' ', 'g', 'a', 'l', 'i', 'l', 'e', 'o', ' ', 'w', 'a', 's', ' ', 'u', 'n', 'd', 'e', 'r', ' ', 'h', 'o', 'u', 's', 'e', ' ', 'a', 'r', 'r', 'e', 's', 't', ' ', 'f', 'o', 'r', ' ', 'e', 's', 'p', 'o', 'u', 's', 'i', 'n', 'g', ' ', 't', 'h', 'i', 's', ' ', 'm', 'a', 'n', \"'\", 's', ' ', 't', 'h', 'e', 'o', 'r', 'y'] #copernicus\n",
        "#test_word_list = ['in', '1963', ',', 'live', 'on', 'the', 'art', 'linkletter', 'show', ',', 'this', 'company', 'served', 'its', 'billionth', 'burger'] #mcdonald's\n",
        "#test_word_list = ['for', 'the', 'last', '8', 'years', 'of', 'his', 'life', ',', 'galileo', 'was', 'under', 'house', 'arrest', 'for', 'espousing', 'this', \"man's\", 'theory'] #copernicus\n",
        "#test_word_list = ['the', 'city', 'of', 'yuma', 'in', 'this', 'state', 'has', 'a', 'record', 'average', 'of', '4', ',', '055', 'hours', 'of', 'sunshine', 'each', 'year'] #arizona\n",
        "test_word_list = ['a' , 'small' , 'demon' , ',' , 'or' , 'a' , 'mischievous' , 'child' , 'who' , 'might' , 'be' , 'a' , 'little' , 'demon'] #imp\n",
        "#test_word_list = ['in' , 'the' , 'mid-18th' , 'c' , '.' , 'mikhail' , 'lomonosov' , 'became' , 'the' , 'first' , 'scientist' , 'to' , 'record' , 'the' , 'freezing' , 'of' , 'this' , 'liquid' , 'metal'] #mercury\n",
        "\n",
        "print(test_word_list)\n",
        "\n",
        "n = 3\n",
        "\n",
        "test_X = create_X(test_word_list)\n",
        "#print(test_X)\n",
        "#print(len(test_X[0]))\n",
        "test_X = np.array([[test_X[0][i] for i in range(len(test_X[0])) if i in [1,2,3,5,7,8,9,10,11,12] ]])\n",
        "#test_X = np.array([[test_X[0][n : n + SEQLEN]]])\n",
        "\n",
        "print(test_X)\n",
        "\n",
        "# start_no = 0\n",
        "# test_X = create_X(test_word_list[start_no : start_no + SEQLEN])\n",
        "\n",
        "pred = model.predict(test_X , verbose = 0)[0]"
      ],
      "execution_count": 50,
      "outputs": [
        {
          "output_type": "stream",
          "text": [
            "['a', 'small', 'demon', ',', 'or', 'a', 'mischievous', 'child', 'who', 'might', 'be', 'a', 'little', 'demon']\n",
            "[[ 431 6321 2132   18 4950  431 4512 1585 7435 4470  991  431 4116 2132]]\n",
            "14\n",
            "[[6321 2132   18  431 1585 7435 4470  991  431 4116]]\n"
          ],
          "name": "stdout"
        }
      ]
    },
    {
      "metadata": {
        "id": "wtUs0DcvgEFD",
        "colab_type": "code",
        "outputId": "1c9948fb-d383-4788-dd96-01b27b0ab936",
        "colab": {
          "base_uri": "https://localhost:8080/",
          "height": 217
        }
      },
      "cell_type": "code",
      "source": [
        "#Answerの候補\n",
        "out_top_n = 10\n",
        "\n",
        "enum_pred = list(enumerate(pred))\n",
        "enum_pred.sort(key = lambda x : -x[1])\n",
        "\n",
        "top_enum_pred = enum_pred[:out_top_n]\n",
        "for i in range(len(top_enum_pred)):\n",
        "    print((i+1) , '位' , id2word_a[top_enum_pred[i][0]] , top_enum_pred[i][1] )\n",
        "\n",
        "print(id2word_a[np.argmax(pred)])"
      ],
      "execution_count": 51,
      "outputs": [
        {
          "output_type": "stream",
          "text": [
            "1 位 imp 0.998248\n",
            "2 位 bananas 0.0006462039\n",
            "3 位 souvenir 0.00016199931\n",
            "4 位 lexicon 9.285988e-05\n",
            "5 位 shofar 3.7878155e-05\n",
            "6 位 zeus 2.7323573e-05\n",
            "7 位 cocktail 2.3245078e-05\n",
            "8 位 macrobiotic 2.2813223e-05\n",
            "9 位 bread/dough 1.7220736e-05\n",
            "10 位 sloth 1.720678e-05\n",
            "imp\n"
          ],
          "name": "stdout"
        }
      ]
    },
    {
      "metadata": {
        "id": "XyYhWbzx_1oG",
        "colab_type": "code",
        "colab": {}
      },
      "cell_type": "code",
      "source": [
        "#embedの重みのダウンロード\n",
        "# embed_layer = model.layers[0]\n",
        "# embed_weights = embed_layer.get_weights()[0]\n",
        "\n",
        "# pd.DataFrame(weights).to_csv('test.csv')\n",
        "# files.download('test.csv')"
      ],
      "execution_count": 0,
      "outputs": []
    },
    {
      "metadata": {
        "id": "29tVTyXgUWtX",
        "colab_type": "code",
        "colab": {}
      },
      "cell_type": "code",
      "source": [
        "#■モデルのダウンロード_1\n",
        "#--重み\n",
        "weights_file_name = 'weights_rnn_qa.hdf5'\n",
        "model.save_weights(weights_file_name)\n",
        "\n",
        "files.download(weights_file_name)"
      ],
      "execution_count": 0,
      "outputs": []
    },
    {
      "metadata": {
        "id": "Gop120AFUWnq",
        "colab_type": "code",
        "colab": {}
      },
      "cell_type": "code",
      "source": [
        "#■モデルのダウンロード_2\n",
        "#--モデル構造\n",
        "model_file_name = 'model_rnn_qa.json'\n",
        "with open(model_file_name , 'w') as f:\n",
        "    f.write(model.to_json())\n",
        "    \n",
        "files.download(model_file_name)"
      ],
      "execution_count": 0,
      "outputs": []
    },
    {
      "metadata": {
        "id": "sykY_SwfMiLq",
        "colab_type": "code",
        "colab": {}
      },
      "cell_type": "code",
      "source": [
        "#■word2id_q、id2word_q、word2id_a、id2word_a のダウンロード\n",
        "obj_dict = {'word2id_q':word2id_q , 'word2id_a':word2id_a , 'id2word_q':id2word_q , 'id2word_a':id2word_a}\n",
        "\n",
        "for name , obj in obj_dict.items():\n",
        "    save_as_json(obj , name)"
      ],
      "execution_count": 0,
      "outputs": []
    },
    {
      "metadata": {
        "id": "7m6lzAtSAa-P",
        "colab_type": "code",
        "colab": {}
      },
      "cell_type": "code",
      "source": [
        ""
      ],
      "execution_count": 0,
      "outputs": []
    },
    {
      "metadata": {
        "id": "vfJFMdz4Aa6q",
        "colab_type": "code",
        "colab": {}
      },
      "cell_type": "code",
      "source": [
        ""
      ],
      "execution_count": 0,
      "outputs": []
    },
    {
      "metadata": {
        "id": "S1bJovLBa31o",
        "colab_type": "code",
        "colab": {}
      },
      "cell_type": "code",
      "source": [
        ""
      ],
      "execution_count": 0,
      "outputs": []
    },
    {
      "metadata": {
        "id": "1RU5P-GOHxzB",
        "colab_type": "code",
        "colab": {}
      },
      "cell_type": "code",
      "source": [
        ""
      ],
      "execution_count": 0,
      "outputs": []
    },
    {
      "metadata": {
        "id": "3EXCYr1-FVgY",
        "colab_type": "code",
        "colab": {}
      },
      "cell_type": "code",
      "source": [
        "qa_df.head(5)"
      ],
      "execution_count": 0,
      "outputs": []
    },
    {
      "metadata": {
        "id": "BBHLDnCBHxvG",
        "colab_type": "code",
        "colab": {}
      },
      "cell_type": "code",
      "source": [
        "id2word_a"
      ],
      "execution_count": 0,
      "outputs": []
    },
    {
      "metadata": {
        "id": "feGOBctyHxrw",
        "colab_type": "code",
        "colab": {}
      },
      "cell_type": "code",
      "source": [
        "#Answer が 1word　でない　を除外する前\n",
        "print(len(word2id))"
      ],
      "execution_count": 0,
      "outputs": []
    },
    {
      "metadata": {
        "id": "pZKalmsdPLp1",
        "colab_type": "code",
        "colab": {}
      },
      "cell_type": "code",
      "source": [
        "#Answer が 1word　でない　を除外した後\n",
        "print(len(word2id))"
      ],
      "execution_count": 0,
      "outputs": []
    },
    {
      "metadata": {
        "id": "aQkVRcIlek8A",
        "colab_type": "code",
        "colab": {}
      },
      "cell_type": "code",
      "source": [
        "print(word2id['last'])\n",
        "print(word2id['8'])\n",
        "print(word2id['years'])\n",
        "print(word2id['of'])\n",
        "print(word2id['his'])\n",
        "\n",
        "\n",
        "print(word2id['galileo'])\n",
        "print(word2id['was'])\n"
      ],
      "execution_count": 0,
      "outputs": []
    },
    {
      "metadata": {
        "id": "tdK35PZbSHud",
        "colab_type": "code",
        "colab": {}
      },
      "cell_type": "code",
      "source": [
        "n = len(qa_df) - 1\n",
        "\n",
        "print(qa_df[' Question'][n])\n",
        "print(qa_df[' Answer'][n])"
      ],
      "execution_count": 0,
      "outputs": []
    },
    {
      "metadata": {
        "id": "sfegL2VqGr-6",
        "colab_type": "code",
        "colab": {}
      },
      "cell_type": "code",
      "source": [
        "a_word_set\n",
        "#word2id"
      ],
      "execution_count": 0,
      "outputs": []
    },
    {
      "metadata": {
        "id": "_fkvfWlCRykY",
        "colab_type": "code",
        "colab": {}
      },
      "cell_type": "code",
      "source": [
        ""
      ],
      "execution_count": 0,
      "outputs": []
    },
    {
      "metadata": {
        "id": "cqMDMsKRSiZT",
        "colab_type": "code",
        "colab": {}
      },
      "cell_type": "code",
      "source": [
        ""
      ],
      "execution_count": 0,
      "outputs": []
    }
  ]
}