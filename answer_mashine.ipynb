{
 "cells": [
  {
   "cell_type": "code",
   "execution_count": 1,
   "metadata": {},
   "outputs": [
    {
     "name": "stderr",
     "output_type": "stream",
     "text": [
      "Using TensorFlow backend.\n"
     ]
    }
   ],
   "source": [
    "import urllib.request\n",
    "import json\n",
    "import pandas as pd\n",
    "import numpy as np\n",
    "\n",
    "from keras.layers import Dense , Activation , SimpleRNN , LSTM , Embedding\n",
    "from keras.models import Sequential , load_model , model_from_json\n",
    "\n",
    "from datetime import datetime\n",
    "\n",
    "import re\n",
    "\n",
    "import os"
   ]
  },
  {
   "cell_type": "code",
   "execution_count": 2,
   "metadata": {
    "collapsed": true
   },
   "outputs": [],
   "source": [
    "#■関数\n",
    "\n",
    "#◆jsonファイルで保存\n",
    "#引数：保存対象オブジェクト、ファイル名(拡張子なし)\n",
    "def save_as_json(obj , fname):\n",
    "    json_fname_with_extension = fname + '.json'\n",
    "    fw = open(json_fname_with_extension , 'w')\n",
    "    json.dump(obj , fw , indent = 4)\n",
    "    fw.close()\n",
    "    files.download(json_fname_with_extension)\n",
    "\n",
    "#◆jsonファイルを取得\n",
    "#引数：対象ファイルのパス\n",
    "def import_json(fpass):\n",
    "    fr = open(fpass , 'r')\n",
    "    f = json.load(fr)\n",
    "    fr.close()\n",
    "    return f"
   ]
  },
  {
   "cell_type": "code",
   "execution_count": 3,
   "metadata": {
    "collapsed": true
   },
   "outputs": [],
   "source": [
    "#パス指定\n",
    "folder_this_pgm = os.getcwd()\n",
    "folder_model_weights = os.path.join(folder_this_pgm , r'model')\n",
    "\n",
    "#モデル\n",
    "#--モデル構造\n",
    "model_file_name = r'model_rnn_qa.json'\n",
    "model_file_path = os.path.join(folder_model_weights , model_file_name)\n",
    "with open(model_file_path , 'r') as f:\n",
    "    model_json = f.read()\n",
    "model = model_from_json(model_json)\n",
    "    \n",
    "#--重み\n",
    "weights_file_name = r'weights_rnn_qa.hdf5'\n",
    "weights_file_path = os.path.join(folder_model_weights , weights_file_name)\n",
    "model.load_weights(weights_file_path)\n",
    "\n",
    "#単語ID\n",
    "word2id_q_tmp = import_json(os.path.join(folder_model_weights , r'word2id_q' + r'.json'))\n",
    "word2id_q = {word:int(id_) for word , id_ in word2id_q_tmp.items()}\n",
    "\n",
    "word2id_a_tmp = import_json(os.path.join(folder_model_weights , r'word2id_a' + r'.json'))\n",
    "word2id_a = {word:int(id_) for word , id_ in word2id_a_tmp.items()}\n",
    "\n",
    "id2word_q_tmp = import_json(os.path.join(folder_model_weights , r'id2word_q' + r'.json'))\n",
    "id2word_q = {int(id_):word for id_ , word in id2word_q_tmp.items()}\n",
    "\n",
    "id2word_a_tmp = import_json(os.path.join(folder_model_weights , r'id2word_a' + r'.json'))\n",
    "id2word_a = {int(id_):word for id_ , word in id2word_a_tmp.items()}\n",
    "\n",
    "del word2id_q_tmp , word2id_a_tmp\n",
    "\n",
    "#SEQLEN（モデルのインプットシーケンスの長さ。モデルの定義の一つ。）\n",
    "SEQLEN = 10"
   ]
  },
  {
   "cell_type": "code",
   "execution_count": 4,
   "metadata": {},
   "outputs": [
    {
     "name": "stdout",
     "output_type": "stream",
     "text": [
      "_________________________________________________________________\n",
      "Layer (type)                 Output Shape              Param #   \n",
      "=================================================================\n",
      "embedding_13 (Embedding)     (None, 10, 128)           2802944   \n",
      "_________________________________________________________________\n",
      "lstm_13 (LSTM)               (None, 256)               394240    \n",
      "_________________________________________________________________\n",
      "dense_13 (Dense)             (None, 6196)              1592372   \n",
      "_________________________________________________________________\n",
      "activation_13 (Activation)   (None, 6196)              0         \n",
      "=================================================================\n",
      "Total params: 4,789,556\n",
      "Trainable params: 4,789,556\n",
      "Non-trainable params: 0\n",
      "_________________________________________________________________\n"
     ]
    }
   ],
   "source": [
    "model.summary()"
   ]
  },
  {
   "cell_type": "code",
   "execution_count": 5,
   "metadata": {
    "collapsed": true
   },
   "outputs": [],
   "source": [
    "#■関数\n",
    "\n",
    "#※単語idが要素\n",
    "#wordのリスト　→　入力用行列（1 × 入力word数 × len(word2id_q)）\n",
    "#※各word が word2id_q に存在すること（＝絶対条件：小文字）\n",
    "def create_X(word_list , word2id_q = word2id_q):\n",
    "    wid_list = [word2id_q[word] for word in word_list]\n",
    "    return_X = np.zeros((1 , len(word_list)) , dtype = int)\n",
    "    for j in range(len(word_list)):\n",
    "        return_X[0 , j] = wid_list[j]\n",
    "    return return_X\n",
    "\n",
    "#文字列　→　単語を要素とするリスト\n",
    "def to_word_list(sentence):\n",
    "    return list(re.sub(r' +' , ' ' , sentence.replace('.' , ' . ').replace(',' , ' , ').replace('\"' , ' ').strip()).lower().split(' '))\n",
    "\n",
    "#word2id_q　に　存在しない単語があるかチェック（全てあれば True）\n",
    "def exist_words(word_list , word2id_q = word2id_q):\n",
    "    word2id_q_keys = word2id_q.keys()\n",
    "    for word in set(word_list):\n",
    "        if word in word2id_q_keys:\n",
    "            continue\n",
    "        else:\n",
    "            return (False , word)\n",
    "    else:\n",
    "        return (True , None)\n"
   ]
  },
  {
   "cell_type": "code",
   "execution_count": 16,
   "metadata": {
    "collapsed": true
   },
   "outputs": [],
   "source": [
    "#■メイン\n",
    "def main(SEQLEN = SEQLEN , answer_num = 5):\n",
    "    end_key = '0'\n",
    "    question = input('検索内容を入力してください。(終了する場合は[' + end_key + '])\\n')\n",
    "    if question == end_key:\n",
    "        return False\n",
    "    \n",
    "    word_list = to_word_list(question)\n",
    "    #print('word_list' , word_list)\n",
    "    \n",
    "    #単語がword2idに存在しない場合は入力し直し\n",
    "    result_exist_words = exist_words(word_list)\n",
    "    #print('result_exist_words' , result_exist_words)\n",
    "    #print('not result_exist_words[0]' , not result_exist_words[0] )\n",
    "    if not result_exist_words[0]:\n",
    "        not_exist_word = result_exist_words[1]\n",
    "        print('【処理不可】' , not_exist_word , 'は当アプリで処理できません。')\n",
    "        return True\n",
    "    \n",
    "    print('...')\n",
    "    \n",
    "    #1語目～SEQLEN語目、２語目～(SEQLEN + 1)語目　...　それぞれの予測結果の和をAnswerベクトルとする。\n",
    "    #--入力データリスト\n",
    "    X_for_Answer_list = []\n",
    "    if len(word_list) < SEQLEN:\n",
    "        X_for_Answer_list.append(create_X(['' for i in range(SEQLEN - len(word_list))] + word_list))\n",
    "    else :\n",
    "        for i in range(len(word_list) - SEQLEN + 1):\n",
    "            X_for_Answer_list.append(create_X(word_list[i : i + SEQLEN]))\n",
    "    \n",
    "    #--予測結果\n",
    "    pred = np.zeros((len(word2id_a)) , dtype = float)\n",
    "    for X_ in X_for_Answer_list:\n",
    "        #print('X_' , X_)\n",
    "        pred += model.predict(X_ , verbose = 0)[0]\n",
    "        #print('pred_tmp' , model.predict(X_ , verbose = 0)[0])\n",
    "        #print('pred' , pred)\n",
    "    \n",
    "    answer_word = id2word_a[np.argmax(pred)]\n",
    "    enum_pred = list(enumerate(pred))\n",
    "    enum_pred.sort(key = lambda x : -x[1])\n",
    "    \n",
    "    print('回答：' , answer_word)\n",
    "    print('【詳細】')\n",
    "    for i in range(answer_num):\n",
    "        print((i+1) , '位' , id2word_a[enum_pred[i][0]] , enum_pred[i][1] )\n",
    "    print('-' * 30)\n",
    "    \n",
    "    return True"
   ]
  },
  {
   "cell_type": "code",
   "execution_count": 21,
   "metadata": {},
   "outputs": [
    {
     "name": "stdout",
     "output_type": "stream",
     "text": [
      "【開始】 ------------------------------\n",
      "検索内容を入力してください。(終了する場合は[0])\n",
      "This car company has been in the news for widespread recalls of its Corollas & other models\n",
      "...\n",
      "回答： toyota\n",
      "【詳細】\n",
      "1 位 toyota 7.57044577599\n",
      "2 位 cuba 0.00586745222245\n",
      "3 位 japan 0.00529290443228\n",
      "4 位 tennis 0.00409081311955\n",
      "5 位 evening 0.00301503697483\n",
      "------------------------------\n",
      "検索内容を入力してください。(終了する場合は[0])\n",
      "company has been in the news for its Corollas & other models\n",
      "...\n",
      "回答： toyota\n",
      "【詳細】\n",
      "1 位 toyota 0.182679247111\n",
      "2 位 boston 0.0411739954725\n",
      "3 位 japan 0.0347413046402\n",
      "4 位 chicago 0.0270601487719\n",
      "5 位 florida 0.0238484102301\n",
      "------------------------------\n",
      "検索内容を入力してください。(終了する場合は[0])\n",
      "0\n",
      "【終了】 ------------------------------\n"
     ]
    }
   ],
   "source": [
    "#処理\n",
    "print('【開始】' , '-' * 30)\n",
    "\n",
    "continue_flg = True\n",
    "while(continue_flg):\n",
    "    continue_flg = main()\n",
    "\n",
    "print('【終了】' , '-' * 30)"
   ]
  },
  {
   "cell_type": "code",
   "execution_count": null,
   "metadata": {
    "collapsed": true
   },
   "outputs": [],
   "source": []
  },
  {
   "cell_type": "code",
   "execution_count": null,
   "metadata": {
    "collapsed": true
   },
   "outputs": [],
   "source": []
  },
  {
   "cell_type": "code",
   "execution_count": null,
   "metadata": {
    "collapsed": true
   },
   "outputs": [],
   "source": []
  },
  {
   "cell_type": "code",
   "execution_count": null,
   "metadata": {
    "collapsed": true
   },
   "outputs": [],
   "source": []
  },
  {
   "cell_type": "code",
   "execution_count": null,
   "metadata": {
    "collapsed": true
   },
   "outputs": [],
   "source": []
  },
  {
   "cell_type": "code",
   "execution_count": null,
   "metadata": {
    "collapsed": true
   },
   "outputs": [],
   "source": []
  },
  {
   "cell_type": "code",
   "execution_count": null,
   "metadata": {},
   "outputs": [],
   "source": []
  },
  {
   "cell_type": "code",
   "execution_count": null,
   "metadata": {
    "collapsed": true
   },
   "outputs": [],
   "source": []
  },
  {
   "cell_type": "code",
   "execution_count": null,
   "metadata": {
    "collapsed": true
   },
   "outputs": [],
   "source": []
  },
  {
   "cell_type": "code",
   "execution_count": null,
   "metadata": {
    "collapsed": true
   },
   "outputs": [],
   "source": []
  },
  {
   "cell_type": "code",
   "execution_count": null,
   "metadata": {
    "collapsed": true
   },
   "outputs": [],
   "source": []
  }
 ],
 "metadata": {
  "kernelspec": {
   "display_name": "Python 3",
   "language": "python",
   "name": "python3"
  },
  "language_info": {
   "codemirror_mode": {
    "name": "ipython",
    "version": 3
   },
   "file_extension": ".py",
   "mimetype": "text/x-python",
   "name": "python",
   "nbconvert_exporter": "python",
   "pygments_lexer": "ipython3",
   "version": "3.6.3"
  }
 },
 "nbformat": 4,
 "nbformat_minor": 2
}
